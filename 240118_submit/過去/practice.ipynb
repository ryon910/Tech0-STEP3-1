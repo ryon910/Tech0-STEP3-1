{
 "cells": [
  {
   "cell_type": "code",
   "execution_count": 1,
   "metadata": {},
   "outputs": [
    {
     "name": "stderr",
     "output_type": "stream",
     "text": [
      "100%|██████████| 1/1 [00:02<00:00,  2.30s/it]\n"
     ]
    }
   ],
   "source": [
    "# 必要なライブラリのインポート\n",
    "from bs4 import BeautifulSoup\n",
    "import pandas as pd\n",
    "import requests\n",
    "import time\n",
    "from tqdm import tqdm #for文の進捗確認\n",
    "\n",
    "# 最後のページの数値を取得する\n",
    "root_url = 'https://suumo.jp/jj/chintai/ichiran/FR301FC001/?fw2=&mt=9999999&cn=9999999&co=1&ra=013&et=9999999&shkr1=03&ar=030&bs=040&ct=25.0&shkr3=03&shkr2=03&mb=0&md=05&md=06&md=07&md=08&md=09&md=10&md=11&md=12&md=13&md=14&rn=0005&shkr4=03&cb=0.0&page={}'\n",
    "res = requests.get(root_url.format(1))\n",
    "res.encoding = 'utf-8'\n",
    "soup = BeautifulSoup(res.text, 'html.parser')\n",
    "total_page = int(soup.find('ol', class_='pagination-parts').find_all('li')[-1].text)\n",
    "\n",
    "#物件情報を1件ずつ格納するための空のリストを用意しておく\n",
    "d_list = []\n",
    "\n",
    "# 正常にHTMLの情報が取得できれば以下のコードを実行\n",
    "if res.status_code == 200:\n",
    "\n",
    "    # 物件一覧ページをfor文で1ページずつループ\n",
    "    for i in tqdm(range(1, 2)):\n",
    "        root_url = 'https://suumo.jp/jj/chintai/ichiran/FR301FC001/?fw2=&mt=9999999&cn=9999999&co=1&ra=013&et=9999999&shkr1=03&ar=030&bs=040&ct=25.0&shkr3=03&shkr2=03&mb=0&md=05&md=06&md=07&md=08&md=09&md=10&md=11&md=12&md=13&md=14&rn=0005&shkr4=03&cb=0.0&page={}'\n",
    "        res = requests.get(root_url.format(i))\n",
    "        res.encoding = 'utf-8'\n",
    "        soup = BeautifulSoup(res.text, 'html.parser')\n",
    "        time.sleep(1)\n",
    "\n",
    "        # 物件一覧ページの物件情報をfor文で1件ずつループ\n",
    "        contents = soup.find_all('div', class_='cassetteitem')\n",
    "        for content in contents:\n",
    "\n",
    "            # 物件情報をdetailに格納する\n",
    "            detail = content.find('div', class_='cassetteitem-detail')\n",
    "            # 物件名\n",
    "            name = detail.find('div', class_='cassetteitem_content-title').text\n",
    "            # 住所\n",
    "            address = detail.find('li', class_='cassetteitem_detail-col1').text\n",
    "            # アクセス\n",
    "            access1 = detail.find_all('div', class_='cassetteitem_detail-text')[0].text\n",
    "            access2 = detail.find_all('div', class_='cassetteitem_detail-text')[1].text\n",
    "            access3 = detail.find_all('div', class_='cassetteitem_detail-text')[2].text\n",
    "            # 築年数/構造\n",
    "            age = detail.find('li', class_='cassetteitem_detail-col3').find_all('div')[0].text\n",
    "            structure = detail.find('li', class_='cassetteitem_detail-col3').find_all('div')[1].text\n",
    "\n",
    "            # 物件情報の中で、部屋情報をfor文で1件ずつループ\n",
    "            table = content.find('table', class_='cassetteitem_other')\n",
    "            tr_tags = table.find_all('tr', class_='js-cassette_link')\n",
    "\n"
   ]
  },
  {
   "cell_type": "code",
   "execution_count": 7,
   "metadata": {},
   "outputs": [
    {
     "data": {
      "text/plain": [
       "[<tr class=\"js-cassette_link\">\n",
       " <td class=\"cassetteitem_other-checkbox cassetteitem_other-checkbox--newarrival js-cassetteitem_checkbox\">\n",
       " <input class=\"js-ikkatsuCB js-single_checkbox\" id=\"bukken_0\" name=\"bc\" type=\"checkbox\" value=\"100361304813\"/><label for=\"bc\"> </label>\n",
       " </td>\n",
       " <td>\n",
       " <div class=\"casssetteitem_other-thumbnail js-view_gallery_images js-noContextMenu\" data-imgs=\"https://img01.suumo.com/front/gazo/fr/bukken/813/100361304813/100361304813_ro.jpg,https://img01.suumo.com/front/gazo/fr/bukken/813/100361304813/100361304813_co.jpg,https://img01.suumo.com/front/gazo/fr/bukken/813/100361304813/100361304813_go.jpg,https://img01.suumo.com/front/gazo/fr/bukken/813/100361304813/100361304813_3o.jpg,https://img01.suumo.com/front/gazo/fr/bukken/813/100361304813/100361304813_4o.jpg,https://img01.suumo.com/front/gazo/fr/bukken/813/100361304813/100361304813_5o.jpg,https://img01.suumo.com/front/gazo/fr/bukken/813/100361304813/100361304813_1o.jpg,https://img01.suumo.com/front/gazo/fr/bukken/813/100361304813/100361304813_6o.jpg,https://img01.suumo.com/front/gazo/fr/bukken/813/100361304813/100361304813_7o.jpg,https://img01.suumo.com/front/gazo/fr/bukken/813/100361304813/100361304813_9o.jpg,https://img01.suumo.com/front/gazo/fr/bukken/813/100361304813/100361304813_8o.jpg,https://img01.suumo.com/front/gazo/fr/bukken/813/100361304813/100361304813_s1o.jpg,https://img01.suumo.com/front/gazo/fr/bukken/813/100361304813/100361304813_2o.jpg\">\n",
       " <img alt=\"\" class=\"casssetteitem_other-thumbnail-img casssetteitem_other-thumbnail-img--hasimages js-view_gallery-modal js-scrollLazy\" rel=\"https://img01.suumo.com/front/gazo/fr/bukken/813/100361304813/100361304813_co.jpg\" src=\"data:image/gif;base64,R0lGODlhAQABAIAAAAAAAAAAACH5BAEAAAAALAAAAAABAAEAAAICRAEAOw%3D%3D\"/>\n",
       " <span class=\"cassetteitem_other-thumbnail-expansion js-view_gallery-modal\"></span>\n",
       " </div>\n",
       " </td>\n",
       " <td>\n",
       " \t\t\t\t\t\t\t\t\t\t\t8階</td>\n",
       " <td>\n",
       " <ul>\n",
       " <li><span class=\"cassetteitem_price cassetteitem_price--rent\"><span class=\"cassetteitem_other-emphasis ui-text--bold\">25万円</span></span></li>\n",
       " <li><span class=\"cassetteitem_price cassetteitem_price--administration\">-</span></li>\n",
       " </ul>\n",
       " </td>\n",
       " <td>\n",
       " <ul>\n",
       " <li><span class=\"cassetteitem_price cassetteitem_price--deposit\">25万円</span></li>\n",
       " <li><span class=\"cassetteitem_price cassetteitem_price--gratuity\">25万円</span></li>\n",
       " </ul>\n",
       " </td>\n",
       " <td>\n",
       " <ul>\n",
       " <li><span class=\"cassetteitem_madori\">2LDK</span></li>\n",
       " <li><span class=\"cassetteitem_menseki\">53.47m<sup>2</sup></span></li>\n",
       " </ul>\n",
       " </td>\n",
       " <td>\n",
       " <ul class=\"cassetteitem-taglist\">\n",
       " </ul>\n",
       " </td>\n",
       " <td class=\"js-property\">\n",
       " <input class=\"js-clipkey\" type=\"hidden\" value=\"100361304813\">\n",
       " <a class=\"ui-btn ui-favorite cassette_favorite cassette_favorite--sm js-addMyList js-linkSuppresser\" href=\"javascript:void(0);\">\n",
       " <span class=\"ui-favorite-icon cassette_favorite-icon\"><span class=\"fr_list-eachicon fr_list-eachicon--favorite\"></span></span>\n",
       " <span class=\"ui-favorite-text\">追加</span>\n",
       " <span class=\"ui-favorite-icon_add cassette_favorite-icon_add\"><span class=\"fr_list-eachicon fr_list-eachicon--favorite_add\"></span></span>\n",
       " <span class=\"ui-favorite-text_add\">追加</span>\n",
       " </a>\n",
       " </input></td>\n",
       " <td class=\"ui-text--midium ui-text--bold\">\n",
       " <a class=\"js-cassette_link_href cassetteitem_other-linktext\" href=\"/chintai/jnc_000087694881/?bc=100361304813\" onclick=\"sendBeaconSiteCatalystClick(event,this,'click_casset_bkn_link',false);\" target=\"_blank\">詳細を見る</a><button class=\"js-kobetsuShiryoSeikyu cassetteitem_other-inquiry_button\" type=\"button\">\n",
       " \t\t\t\t\t\t\t\t\t\t\t\tお問い合わせ\n",
       " \t\t\t\t\t\t\t\t\t\t\t\t\t<span class=\"cassetteitem_other-inquiry_text\">(無料)</span>\n",
       " </button>\n",
       " </td>\n",
       " </tr>]"
      ]
     },
     "execution_count": 7,
     "metadata": {},
     "output_type": "execute_result"
    }
   ],
   "source": [
    "tr_tags = table.find_all('tr', class_='js-cassette_link')\n",
    "tr_tags"
   ]
  },
  {
   "cell_type": "code",
   "execution_count": 49,
   "metadata": {},
   "outputs": [
    {
     "data": {
      "text/plain": [
       "'https://suumo.jp/chintai/jnc_000087694881/?bc=100361304813'"
      ]
     },
     "execution_count": 49,
     "metadata": {},
     "output_type": "execute_result"
    }
   ],
   "source": [
    "# 物件詳細ページリンク\n",
    "detail_url = 'https://suumo.jp' + tr_tags[0].find_all('td')[8].find('a').get('href')\n",
    "detail_url"
   ]
  },
  {
   "cell_type": "code",
   "execution_count": 56,
   "metadata": {},
   "outputs": [
    {
     "data": {
      "text/plain": [
       "'https://img01.suumo.com/front/gazo/fr/bukken/813/100361304813/100361304813_co.jpg'"
      ]
     },
     "execution_count": 56,
     "metadata": {},
     "output_type": "execute_result"
    }
   ],
   "source": [
    "# 間取り画像リンク\n",
    "madori_img_url = tr_tags[0].find_all('td')[1].find('img').get('rel')\n",
    "madori_img_url"
   ]
  },
  {
   "cell_type": "code",
   "execution_count": 44,
   "metadata": {},
   "outputs": [
    {
     "data": {
      "text/plain": [
       "<div class=\"cassetteitem-detail\">\n",
       "<div class=\"cassetteitem-detail-object\">\n",
       "<div class=\"cassetteitem_object\">\n",
       "<div class=\"cassetteitem_object-item\">\n",
       "<img alt=\"\" class=\"js-noContextMenu js-linkImage js-scrollLazy js-adjustImg\" height=\"0\" rel=\"https://img01.suumo.com/front/gazo/fr/bukken/813/100361304813/100361304813_gw.jpg\" src=\"data:image/gif;base64,R0lGODlhAQABAIAAAAAAAAAAACH5BAEAAAAALAAAAAABAAEAAAICRAEAOw%3D%3D\" width=\"0\">\n",
       "</img></div>\n",
       "</div>\n",
       "</div>\n",
       "<div class=\"cassetteitem-detail-body\">\n",
       "<div class=\"cassetteitem_content\">\n",
       "<div class=\"cassetteitem_content-label\"><span class=\"ui-pct ui-pct--util1\">賃貸マンション</span></div>\n",
       "<div class=\"cassetteitem_content-title\">ＪＲ山手線 西日暮里駅 15階建 新築</div>\n",
       "<div class=\"cassetteitem_content-body\">\n",
       "<ul class=\"cassetteitem_detail\">\n",
       "<li class=\"cassetteitem_detail-col1\">東京都台東区谷中３</li>\n",
       "<li class=\"cassetteitem_detail-col2\">\n",
       "<div class=\"cassetteitem_detail-text\" style=\"font-weight:bold\">ＪＲ山手線/西日暮里駅 歩4分</div>\n",
       "<div class=\"cassetteitem_detail-text\">東京メトロ千代田線/西日暮里駅 歩4分</div>\n",
       "<div class=\"cassetteitem_detail-text\">東京メトロ千代田線/千駄木駅 歩10分</div>\n",
       "</li>\n",
       "<li class=\"cassetteitem_detail-col3\">\n",
       "<div>新築</div>\n",
       "<div>15階建</div>\n",
       "</li>\n",
       "</ul>\n",
       "</div>\n",
       "</div>\n",
       "</div>\n",
       "</div>"
      ]
     },
     "execution_count": 44,
     "metadata": {},
     "output_type": "execute_result"
    }
   ],
   "source": [
    "detail = content.find('div', class_='cassetteitem-detail')\n",
    "detail"
   ]
  },
  {
   "cell_type": "code",
   "execution_count": 50,
   "metadata": {},
   "outputs": [
    {
     "data": {
      "text/plain": [
       "'https://img01.suumo.com/front/gazo/fr/bukken/813/100361304813/100361304813_gw.jpg'"
      ]
     },
     "execution_count": 50,
     "metadata": {},
     "output_type": "execute_result"
    }
   ],
   "source": [
    "# 物件画像リンク\n",
    "build_img_url = detail.find('img', class_='js-linkImage').get('rel')\n",
    "build_img_url"
   ]
  },
  {
   "cell_type": "code",
   "execution_count": null,
   "metadata": {},
   "outputs": [],
   "source": []
  }
 ],
 "metadata": {
  "kernelspec": {
   "display_name": "base",
   "language": "python",
   "name": "python3"
  },
  "language_info": {
   "codemirror_mode": {
    "name": "ipython",
    "version": 3
   },
   "file_extension": ".py",
   "mimetype": "text/x-python",
   "name": "python",
   "nbconvert_exporter": "python",
   "pygments_lexer": "ipython3",
   "version": "3.11.3"
  }
 },
 "nbformat": 4,
 "nbformat_minor": 2
}
