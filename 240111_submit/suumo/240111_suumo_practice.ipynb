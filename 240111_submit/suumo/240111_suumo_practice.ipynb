{
 "cells": [
  {
   "cell_type": "code",
   "execution_count": 3,
   "metadata": {},
   "outputs": [
    {
     "data": {
      "text/html": [
       "<div>\n",
       "<style scoped>\n",
       "    .dataframe tbody tr th:only-of-type {\n",
       "        vertical-align: middle;\n",
       "    }\n",
       "\n",
       "    .dataframe tbody tr th {\n",
       "        vertical-align: top;\n",
       "    }\n",
       "\n",
       "    .dataframe thead th {\n",
       "        text-align: right;\n",
       "    }\n",
       "</style>\n",
       "<table border=\"1\" class=\"dataframe\">\n",
       "  <thead>\n",
       "    <tr style=\"text-align: right;\">\n",
       "      <th></th>\n",
       "      <th>name</th>\n",
       "      <th>address</th>\n",
       "      <th>age/year</th>\n",
       "      <th>structure</th>\n",
       "      <th>floor/F</th>\n",
       "      <th>rent/yen</th>\n",
       "      <th>admin/yen</th>\n",
       "      <th>deposit/yen</th>\n",
       "      <th>gratuity/yen</th>\n",
       "      <th>madori</th>\n",
       "      <th>menseki/m2</th>\n",
       "      <th>access1_line</th>\n",
       "      <th>access1_station</th>\n",
       "      <th>access1_walk/min</th>\n",
       "      <th>access2_line</th>\n",
       "      <th>access2_station</th>\n",
       "      <th>access2_walk/min</th>\n",
       "      <th>access3_line</th>\n",
       "      <th>access3_station</th>\n",
       "      <th>access3_walk/min</th>\n",
       "    </tr>\n",
       "  </thead>\n",
       "  <tbody>\n",
       "    <tr>\n",
       "      <th>0</th>\n",
       "      <td>メゾンクレール</td>\n",
       "      <td>東京都北区田端３</td>\n",
       "      <td>38</td>\n",
       "      <td>7F</td>\n",
       "      <td>5</td>\n",
       "      <td>125000</td>\n",
       "      <td>0</td>\n",
       "      <td>125000</td>\n",
       "      <td>125000</td>\n",
       "      <td>2DK</td>\n",
       "      <td>45.50</td>\n",
       "      <td>ＪＲ山手線</td>\n",
       "      <td>駒込駅</td>\n",
       "      <td>8</td>\n",
       "      <td>ＪＲ京浜東北線</td>\n",
       "      <td>田端駅</td>\n",
       "      <td>12</td>\n",
       "      <td>東京メトロ千代田線</td>\n",
       "      <td>西日暮里駅</td>\n",
       "      <td>16</td>\n",
       "    </tr>\n",
       "    <tr>\n",
       "      <th>1</th>\n",
       "      <td>ＪＲ山手線 鶯谷駅 10階建 築3年</td>\n",
       "      <td>東京都荒川区東日暮里４</td>\n",
       "      <td>3</td>\n",
       "      <td>10F</td>\n",
       "      <td>3</td>\n",
       "      <td>190000</td>\n",
       "      <td>10000</td>\n",
       "      <td>190000</td>\n",
       "      <td>190000</td>\n",
       "      <td>2LDK</td>\n",
       "      <td>50.08</td>\n",
       "      <td>ＪＲ山手線</td>\n",
       "      <td>鶯谷駅</td>\n",
       "      <td>6</td>\n",
       "      <td>ＪＲ京浜東北線</td>\n",
       "      <td>日暮里駅</td>\n",
       "      <td>11</td>\n",
       "      <td>ＪＲ山手線</td>\n",
       "      <td>上野駅</td>\n",
       "      <td>22</td>\n",
       "    </tr>\n",
       "    <tr>\n",
       "      <th>2</th>\n",
       "      <td>イルメーゼ</td>\n",
       "      <td>東京都北区田端４</td>\n",
       "      <td>35</td>\n",
       "      <td>5F</td>\n",
       "      <td>3</td>\n",
       "      <td>120000</td>\n",
       "      <td>5000</td>\n",
       "      <td>120000</td>\n",
       "      <td>120000</td>\n",
       "      <td>2DK</td>\n",
       "      <td>42.44</td>\n",
       "      <td>ＪＲ山手線</td>\n",
       "      <td>田端駅</td>\n",
       "      <td>8</td>\n",
       "      <td>ＪＲ山手線</td>\n",
       "      <td>西日暮里駅</td>\n",
       "      <td>19</td>\n",
       "      <td>ＪＲ山手線</td>\n",
       "      <td>駒込駅</td>\n",
       "      <td>8</td>\n",
       "    </tr>\n",
       "    <tr>\n",
       "      <th>3</th>\n",
       "      <td>田端３丁目戸建</td>\n",
       "      <td>東京都北区田端３</td>\n",
       "      <td>43</td>\n",
       "      <td>2F</td>\n",
       "      <td>-</td>\n",
       "      <td>200000</td>\n",
       "      <td>0</td>\n",
       "      <td>200000</td>\n",
       "      <td>0</td>\n",
       "      <td>3DK</td>\n",
       "      <td>53.21</td>\n",
       "      <td>ＪＲ山手線</td>\n",
       "      <td>田端駅</td>\n",
       "      <td>10</td>\n",
       "      <td>東京メトロ千代田線</td>\n",
       "      <td>西日暮里駅</td>\n",
       "      <td>13</td>\n",
       "      <td>東京メトロ南北線</td>\n",
       "      <td>駒込駅</td>\n",
       "      <td>12</td>\n",
       "    </tr>\n",
       "    <tr>\n",
       "      <th>4</th>\n",
       "      <td>ＪＲ山手線 田端駅 3階建 築33年</td>\n",
       "      <td>東京都北区田端５</td>\n",
       "      <td>33</td>\n",
       "      <td>3F</td>\n",
       "      <td>2</td>\n",
       "      <td>132000</td>\n",
       "      <td>3000</td>\n",
       "      <td>132000</td>\n",
       "      <td>0</td>\n",
       "      <td>3SDK</td>\n",
       "      <td>58.94</td>\n",
       "      <td>ＪＲ山手線</td>\n",
       "      <td>田端駅</td>\n",
       "      <td>8</td>\n",
       "      <td>ＪＲ山手線</td>\n",
       "      <td>駒込駅</td>\n",
       "      <td>11</td>\n",
       "      <td>ＪＲ山手線</td>\n",
       "      <td>西日暮里駅</td>\n",
       "      <td>16</td>\n",
       "    </tr>\n",
       "  </tbody>\n",
       "</table>\n",
       "</div>"
      ],
      "text/plain": [
       "                 name      address  age/year structure floor/F  rent/yen  \\\n",
       "0             メゾンクレール     東京都北区田端３        38        7F       5    125000   \n",
       "1  ＪＲ山手線 鶯谷駅 10階建 築3年  東京都荒川区東日暮里４         3       10F       3    190000   \n",
       "2               イルメーゼ     東京都北区田端４        35        5F       3    120000   \n",
       "3             田端３丁目戸建     東京都北区田端３        43        2F       -    200000   \n",
       "4  ＪＲ山手線 田端駅 3階建 築33年     東京都北区田端５        33        3F       2    132000   \n",
       "\n",
       "   admin/yen  deposit/yen  gratuity/yen madori  menseki/m2 access1_line  \\\n",
       "0          0       125000        125000    2DK       45.50        ＪＲ山手線   \n",
       "1      10000       190000        190000   2LDK       50.08        ＪＲ山手線   \n",
       "2       5000       120000        120000    2DK       42.44        ＪＲ山手線   \n",
       "3          0       200000             0    3DK       53.21        ＪＲ山手線   \n",
       "4       3000       132000             0   3SDK       58.94        ＪＲ山手線   \n",
       "\n",
       "  access1_station access1_walk/min access2_line access2_station  \\\n",
       "0             駒込駅                8      ＪＲ京浜東北線             田端駅   \n",
       "1             鶯谷駅                6      ＪＲ京浜東北線            日暮里駅   \n",
       "2             田端駅                8        ＪＲ山手線           西日暮里駅   \n",
       "3             田端駅               10    東京メトロ千代田線           西日暮里駅   \n",
       "4             田端駅                8        ＪＲ山手線             駒込駅   \n",
       "\n",
       "  access2_walk/min access3_line access3_station access3_walk/min  \n",
       "0               12    東京メトロ千代田線           西日暮里駅               16  \n",
       "1               11        ＪＲ山手線             上野駅               22  \n",
       "2               19        ＪＲ山手線             駒込駅                8  \n",
       "3               13     東京メトロ南北線             駒込駅               12  \n",
       "4               11        ＪＲ山手線           西日暮里駅               16  "
      ]
     },
     "execution_count": 3,
     "metadata": {},
     "output_type": "execute_result"
    }
   ],
   "source": [
    "# SQLiteのRDBを読み込み、dfに代入\n",
    "#必要なライブラリのインポート\n",
    "import pandas as pd\n",
    "import sqlite3\n",
    "# 作成済のdatabaseに接続する。\n",
    "conn = sqlite3.connect('suumo.db')\n",
    "\n",
    "# databaseをクエリで実行した結果を読み込み、dfに代入。\n",
    "query = \"SELECT * FROM suumo_clean\"\n",
    "df = pd.read_sql(query, conn)\n",
    "df.head()"
   ]
  },
  {
   "cell_type": "code",
   "execution_count": 9,
   "metadata": {},
   "outputs": [
    {
     "data": {
      "text/plain": [
       "array(['2DK', '2LDK', '3DK', '3SDK', '2K', '3K', '3LDK', '4K', '4LDK',\n",
       "       '2SLDK', '3SLDK', '4SK', '3SK', '2SDK', '2SK', '4SLDK'],\n",
       "      dtype=object)"
      ]
     },
     "execution_count": 9,
     "metadata": {},
     "output_type": "execute_result"
    }
   ],
   "source": [
    "df['madori'].unique()"
   ]
  },
  {
   "cell_type": "code",
   "execution_count": 20,
   "metadata": {},
   "outputs": [
    {
     "data": {
      "text/plain": [
       "250000"
      ]
     },
     "execution_count": 20,
     "metadata": {},
     "output_type": "execute_result"
    }
   ],
   "source": [
    "df['rent/yen'].max()"
   ]
  },
  {
   "cell_type": "code",
   "execution_count": 14,
   "metadata": {},
   "outputs": [
    {
     "data": {
      "text/plain": [
       "name                 object\n",
       "address              object\n",
       "age/year              int64\n",
       "structure            object\n",
       "floor/F              object\n",
       "rent/yen              int64\n",
       "admin/yen             int64\n",
       "deposit/yen           int64\n",
       "gratuity/yen          int64\n",
       "madori               object\n",
       "menseki/m2          float64\n",
       "access1_line         object\n",
       "access1_station      object\n",
       "access1_walk/min     object\n",
       "access2_line         object\n",
       "access2_station      object\n",
       "access2_walk/min     object\n",
       "access3_line         object\n",
       "access3_station      object\n",
       "access3_walk/min     object\n",
       "dtype: object"
      ]
     },
     "execution_count": 14,
     "metadata": {},
     "output_type": "execute_result"
    }
   ],
   "source": [
    "df.dtypes"
   ]
  },
  {
   "cell_type": "code",
   "execution_count": 15,
   "metadata": {},
   "outputs": [
    {
     "data": {
      "text/plain": [
       "77"
      ]
     },
     "execution_count": 15,
     "metadata": {},
     "output_type": "execute_result"
    }
   ],
   "source": [
    "df['age/year'].max()"
   ]
  },
  {
   "cell_type": "code",
   "execution_count": 18,
   "metadata": {},
   "outputs": [
    {
     "data": {
      "text/plain": [
       "140.34"
      ]
     },
     "execution_count": 18,
     "metadata": {},
     "output_type": "execute_result"
    }
   ],
   "source": [
    "df['menseki/m2'].max()"
   ]
  },
  {
   "cell_type": "code",
   "execution_count": 19,
   "metadata": {},
   "outputs": [
    {
     "data": {
      "text/plain": [
       "24"
      ]
     },
     "execution_count": 19,
     "metadata": {},
     "output_type": "execute_result"
    }
   ],
   "source": [
    "df['access1_walk/min'] = pd.to_numeric(df['access1_walk/min'], errors='coerce').fillna(10).astype(int)\n",
    "df['access1_walk/min'].max()"
   ]
  },
  {
   "cell_type": "code",
   "execution_count": null,
   "metadata": {},
   "outputs": [],
   "source": []
  }
 ],
 "metadata": {
  "kernelspec": {
   "display_name": "base",
   "language": "python",
   "name": "python3"
  },
  "language_info": {
   "codemirror_mode": {
    "name": "ipython",
    "version": 3
   },
   "file_extension": ".py",
   "mimetype": "text/x-python",
   "name": "python",
   "nbconvert_exporter": "python",
   "pygments_lexer": "ipython3",
   "version": "3.11.3"
  }
 },
 "nbformat": 4,
 "nbformat_minor": 2
}
